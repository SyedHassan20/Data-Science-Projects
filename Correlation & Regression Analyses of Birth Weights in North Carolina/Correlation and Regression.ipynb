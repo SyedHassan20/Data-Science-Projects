{
 "cells": [
  {
   "cell_type": "code",
   "execution_count": 10,
   "id": "fa218b82",
   "metadata": {},
   "outputs": [],
   "source": [
    "# import relevant packages\n",
    "import pandas as pd\n",
    "import numpy as np\n",
    "from scipy import stats\n",
    "import matplotlib.pyplot as plt\n",
    "import statsmodels.api as statsmodels # useful stats package with regression functions\n",
    "import seaborn as sns # very nice plotting package\n",
    "\n",
    "# style settings\n",
    "sns.set(color_codes=True, font_scale = 1.2)\n",
    "sns.set_style(\"whitegrid\")"
   ]
  },
  {
   "cell_type": "code",
   "execution_count": 19,
   "id": "64dd313e",
   "metadata": {},
   "outputs": [
    {
     "data": {
      "text/html": [
       "<div>\n",
       "<style scoped>\n",
       "    .dataframe tbody tr th:only-of-type {\n",
       "        vertical-align: middle;\n",
       "    }\n",
       "\n",
       "    .dataframe tbody tr th {\n",
       "        vertical-align: top;\n",
       "    }\n",
       "\n",
       "    .dataframe thead th {\n",
       "        text-align: right;\n",
       "    }\n",
       "</style>\n",
       "<table border=\"1\" class=\"dataframe\">\n",
       "  <thead>\n",
       "    <tr style=\"text-align: right;\">\n",
       "      <th></th>\n",
       "      <th>m_age</th>\n",
       "      <th>weeks</th>\n",
       "      <th>weight/pounds</th>\n",
       "    </tr>\n",
       "  </thead>\n",
       "  <tbody>\n",
       "    <tr>\n",
       "      <th>0</th>\n",
       "      <td>30</td>\n",
       "      <td>39</td>\n",
       "      <td>6.88</td>\n",
       "    </tr>\n",
       "    <tr>\n",
       "      <th>1</th>\n",
       "      <td>36</td>\n",
       "      <td>39</td>\n",
       "      <td>7.69</td>\n",
       "    </tr>\n",
       "    <tr>\n",
       "      <th>2</th>\n",
       "      <td>35</td>\n",
       "      <td>40</td>\n",
       "      <td>8.88</td>\n",
       "    </tr>\n",
       "    <tr>\n",
       "      <th>3</th>\n",
       "      <td>40</td>\n",
       "      <td>40</td>\n",
       "      <td>9.00</td>\n",
       "    </tr>\n",
       "    <tr>\n",
       "      <th>4</th>\n",
       "      <td>37</td>\n",
       "      <td>40</td>\n",
       "      <td>7.94</td>\n",
       "    </tr>\n",
       "    <tr>\n",
       "      <th>5</th>\n",
       "      <td>28</td>\n",
       "      <td>40</td>\n",
       "      <td>8.25</td>\n",
       "    </tr>\n",
       "    <tr>\n",
       "      <th>6</th>\n",
       "      <td>35</td>\n",
       "      <td>28</td>\n",
       "      <td>1.63</td>\n",
       "    </tr>\n",
       "    <tr>\n",
       "      <th>7</th>\n",
       "      <td>21</td>\n",
       "      <td>35</td>\n",
       "      <td>5.50</td>\n",
       "    </tr>\n",
       "    <tr>\n",
       "      <th>8</th>\n",
       "      <td>20</td>\n",
       "      <td>32</td>\n",
       "      <td>2.69</td>\n",
       "    </tr>\n",
       "    <tr>\n",
       "      <th>9</th>\n",
       "      <td>25</td>\n",
       "      <td>40</td>\n",
       "      <td>8.75</td>\n",
       "    </tr>\n",
       "  </tbody>\n",
       "</table>\n",
       "</div>"
      ],
      "text/plain": [
       "   m_age  weeks  weight/pounds\n",
       "0     30     39           6.88\n",
       "1     36     39           7.69\n",
       "2     35     40           8.88\n",
       "3     40     40           9.00\n",
       "4     37     40           7.94\n",
       "5     28     40           8.25\n",
       "6     35     28           1.63\n",
       "7     21     35           5.50\n",
       "8     20     32           2.69\n",
       "9     25     40           8.75"
      ]
     },
     "execution_count": 19,
     "metadata": {},
     "output_type": "execute_result"
    }
   ],
   "source": [
    "col_list = [\"weeks\", \"m_age\",\"weight/pounds\"]\n",
    "df = pd.read_csv(\"births.csv\", usecols=col_list) # importing three specific columns from dataset\n",
    "df.head(10) # display first 10 rows of the dataset"
   ]
  },
  {
   "cell_type": "code",
   "execution_count": 20,
   "id": "b55e5ca9",
   "metadata": {},
   "outputs": [
    {
     "data": {
      "text/html": [
       "<div>\n",
       "<style scoped>\n",
       "    .dataframe tbody tr th:only-of-type {\n",
       "        vertical-align: middle;\n",
       "    }\n",
       "\n",
       "    .dataframe tbody tr th {\n",
       "        vertical-align: top;\n",
       "    }\n",
       "\n",
       "    .dataframe thead th {\n",
       "        text-align: right;\n",
       "    }\n",
       "</style>\n",
       "<table border=\"1\" class=\"dataframe\">\n",
       "  <thead>\n",
       "    <tr style=\"text-align: right;\">\n",
       "      <th></th>\n",
       "      <th>m_age</th>\n",
       "      <th>weeks</th>\n",
       "      <th>weight/pounds</th>\n",
       "    </tr>\n",
       "  </thead>\n",
       "  <tbody>\n",
       "    <tr>\n",
       "      <th>count</th>\n",
       "      <td>150.000000</td>\n",
       "      <td>150.000000</td>\n",
       "      <td>150.00000</td>\n",
       "    </tr>\n",
       "    <tr>\n",
       "      <th>mean</th>\n",
       "      <td>26.600000</td>\n",
       "      <td>38.546667</td>\n",
       "      <td>7.04600</td>\n",
       "    </tr>\n",
       "    <tr>\n",
       "      <th>std</th>\n",
       "      <td>6.222928</td>\n",
       "      <td>2.747999</td>\n",
       "      <td>1.49721</td>\n",
       "    </tr>\n",
       "    <tr>\n",
       "      <th>min</th>\n",
       "      <td>15.000000</td>\n",
       "      <td>26.000000</td>\n",
       "      <td>1.63000</td>\n",
       "    </tr>\n",
       "    <tr>\n",
       "      <th>25%</th>\n",
       "      <td>22.000000</td>\n",
       "      <td>38.000000</td>\n",
       "      <td>6.45500</td>\n",
       "    </tr>\n",
       "    <tr>\n",
       "      <th>50%</th>\n",
       "      <td>25.000000</td>\n",
       "      <td>39.000000</td>\n",
       "      <td>7.31000</td>\n",
       "    </tr>\n",
       "    <tr>\n",
       "      <th>75%</th>\n",
       "      <td>31.000000</td>\n",
       "      <td>40.000000</td>\n",
       "      <td>8.00000</td>\n",
       "    </tr>\n",
       "    <tr>\n",
       "      <th>max</th>\n",
       "      <td>41.000000</td>\n",
       "      <td>44.000000</td>\n",
       "      <td>10.13000</td>\n",
       "    </tr>\n",
       "  </tbody>\n",
       "</table>\n",
       "</div>"
      ],
      "text/plain": [
       "            m_age       weeks  weight/pounds\n",
       "count  150.000000  150.000000      150.00000\n",
       "mean    26.600000   38.546667        7.04600\n",
       "std      6.222928    2.747999        1.49721\n",
       "min     15.000000   26.000000        1.63000\n",
       "25%     22.000000   38.000000        6.45500\n",
       "50%     25.000000   39.000000        7.31000\n",
       "75%     31.000000   40.000000        8.00000\n",
       "max     41.000000   44.000000       10.13000"
      ]
     },
     "execution_count": 20,
     "metadata": {},
     "output_type": "execute_result"
    }
   ],
   "source": [
    "df.describe()"
   ]
  },
  {
   "cell_type": "markdown",
   "id": "04672121",
   "metadata": {},
   "source": [
    "## Significance Test"
   ]
  },
  {
   "cell_type": "code",
   "execution_count": 21,
   "id": "f62d58b3",
   "metadata": {},
   "outputs": [
    {
     "name": "stdout",
     "output_type": "stream",
     "text": [
      "b1 = 0.3726681268806866\n",
      "SE = 0.03267005578083024\n",
      "t = 11.40702450527668\n",
      "p = 0.0\n"
     ]
    }
   ],
   "source": [
    "from scipy import stats\n",
    "\n",
    "# given summary statistics:\n",
    "r = 0.684\n",
    "x = 40\n",
    "y = 9 \n",
    "sx = 2.747999\n",
    "sy = 1.49721\n",
    "n = 150\n",
    "\n",
    "# slope\n",
    "b1 = sy/sx * r\n",
    "print(\"b1 =\",b1)\n",
    "\n",
    "# Standard Error\n",
    "SE = sy/sx * ((1-r**2)/(n-2))**0.5\n",
    "print(\"SE =\",SE)\n",
    "\n",
    "# t-value using slope and SE\n",
    "t = (b1 - 0)/SE\n",
    "print(\"t =\",t)\n",
    "\n",
    "# p-value using stats library for two-tailed test\n",
    "# uses t-value and degrees of freedom (n-2)\n",
    "p = (1-stats.t.cdf(t,n-2))*2\n",
    "print(\"p =\",p)"
   ]
  },
  {
   "cell_type": "markdown",
   "id": "90c814d6",
   "metadata": {},
   "source": [
    "## Pearson's Correlation"
   ]
  },
  {
   "cell_type": "code",
   "execution_count": 22,
   "id": "c68648d8",
   "metadata": {},
   "outputs": [
    {
     "name": "stdout",
     "output_type": "stream",
     "text": [
      "0.684\n"
     ]
    }
   ],
   "source": [
    "from scipy.stats import pearsonr\n",
    "x = df[\"weeks\"]\n",
    "y = df[\"weight/pounds\"]\n",
    "\n",
    "r = pearsonr(x,y)[0]\n",
    "print(round(r,3))"
   ]
  },
  {
   "cell_type": "markdown",
   "id": "e5fa378f",
   "metadata": {},
   "source": [
    "# Mutiple Regression Analyses"
   ]
  },
  {
   "cell_type": "code",
   "execution_count": 23,
   "id": "21bfd23e",
   "metadata": {},
   "outputs": [],
   "source": [
    "def mult_regression(column_x, column_y):\n",
    "    ''' this function uses built in library functions to construct a linear \n",
    "    regression model with potentially multiple predictor variables. It outputs \n",
    "    two plots to assess the validity of the model.'''\n",
    "\n",
    "    # It plots the single regression line if there is only one variable \n",
    "    if len(column_x)==1:\n",
    "        plt.figure()\n",
    "        sns.regplot(x=column_x[0], y=column_y, data=df, marker=\"+\",fit_reg=True,color='blue')\n",
    "        sns.regplot.set_title('Residuals vs Fitted values',fontweight='bold',fontsize=14)\n",
    "\n",
    "    # define predictors X and response Y\n",
    "    X = df[column_x]\n",
    "    X = statsmodels.add_constant(X)\n",
    "    Y = df[column_y]\n",
    "    \n",
    "    # Uses a library function to create a model with regression line\n",
    "    global regressionmodel \n",
    "    regressionmodel = statsmodels.OLS(Y,X).fit() # OLS = \"ordinary least squares\"\n",
    "    \n",
    "    # residual plot: using comparison between residuals and fitted values and check homoscedasticity.\n",
    "    plt.figure()\n",
    "    residualplot = sns.residplot(x=regressionmodel.predict(), y=regressionmodel.resid, color='red')\n",
    "    residualplot.set(xlabel='Fitted values for '+column_y, ylabel='Residuals')\n",
    "    residualplot.set_title('Residuals vs Fitted values',fontweight='bold',fontsize=14)\n",
    "    \n",
    "    # QQ plot to check the normal distribution of residuals\n",
    "    qqplot = statsmodels.qqplot(regressionmodel.resid,fit=True,line='45')\n",
    "    qqplot.suptitle(\"Normal Probability (\\\"QQ\\\") Plot for Residuals\",fontweight='bold',fontsize=14)"
   ]
  },
  {
   "cell_type": "code",
   "execution_count": 24,
   "id": "8eca332f",
   "metadata": {},
   "outputs": [
    {
     "data": {
      "text/html": [
       "<table class=\"simpletable\">\n",
       "<caption>OLS Regression Results</caption>\n",
       "<tr>\n",
       "  <th>Dep. Variable:</th>      <td>weight/pounds</td>  <th>  R-squared:         </th> <td>   0.484</td>\n",
       "</tr>\n",
       "<tr>\n",
       "  <th>Model:</th>                   <td>OLS</td>       <th>  Adj. R-squared:    </th> <td>   0.477</td>\n",
       "</tr>\n",
       "<tr>\n",
       "  <th>Method:</th>             <td>Least Squares</td>  <th>  F-statistic:       </th> <td>   68.87</td>\n",
       "</tr>\n",
       "<tr>\n",
       "  <th>Date:</th>             <td>Fri, 04 Feb 2022</td> <th>  Prob (F-statistic):</th> <td>7.87e-22</td>\n",
       "</tr>\n",
       "<tr>\n",
       "  <th>Time:</th>                 <td>16:12:31</td>     <th>  Log-Likelihood:    </th> <td> -223.29</td>\n",
       "</tr>\n",
       "<tr>\n",
       "  <th>No. Observations:</th>      <td>   150</td>      <th>  AIC:               </th> <td>   452.6</td>\n",
       "</tr>\n",
       "<tr>\n",
       "  <th>Df Residuals:</th>          <td>   147</td>      <th>  BIC:               </th> <td>   461.6</td>\n",
       "</tr>\n",
       "<tr>\n",
       "  <th>Df Model:</th>              <td>     2</td>      <th>                     </th>     <td> </td>   \n",
       "</tr>\n",
       "<tr>\n",
       "  <th>Covariance Type:</th>      <td>nonrobust</td>    <th>                     </th>     <td> </td>   \n",
       "</tr>\n",
       "</table>\n",
       "<table class=\"simpletable\">\n",
       "<tr>\n",
       "    <td></td>       <th>coef</th>     <th>std err</th>      <th>t</th>      <th>P>|t|</th>  <th>[0.025</th>    <th>0.975]</th>  \n",
       "</tr>\n",
       "<tr>\n",
       "  <th>const</th> <td>   -8.4714</td> <td>    1.359</td> <td>   -6.236</td> <td> 0.000</td> <td>  -11.156</td> <td>   -5.787</td>\n",
       "</tr>\n",
       "<tr>\n",
       "  <th>weeks</th> <td>    0.3812</td> <td>    0.033</td> <td>   11.715</td> <td> 0.000</td> <td>    0.317</td> <td>    0.445</td>\n",
       "</tr>\n",
       "<tr>\n",
       "  <th>m_age</th> <td>    0.0310</td> <td>    0.014</td> <td>    2.158</td> <td> 0.033</td> <td>    0.003</td> <td>    0.059</td>\n",
       "</tr>\n",
       "</table>\n",
       "<table class=\"simpletable\">\n",
       "<tr>\n",
       "  <th>Omnibus:</th>       <td> 1.716</td> <th>  Durbin-Watson:     </th> <td>   1.922</td>\n",
       "</tr>\n",
       "<tr>\n",
       "  <th>Prob(Omnibus):</th> <td> 0.424</td> <th>  Jarque-Bera (JB):  </th> <td>   1.302</td>\n",
       "</tr>\n",
       "<tr>\n",
       "  <th>Skew:</th>          <td>-0.201</td> <th>  Prob(JB):          </th> <td>   0.521</td>\n",
       "</tr>\n",
       "<tr>\n",
       "  <th>Kurtosis:</th>      <td> 3.216</td> <th>  Cond. No.          </th> <td>    722.</td>\n",
       "</tr>\n",
       "</table><br/><br/>Notes:<br/>[1] Standard Errors assume that the covariance matrix of the errors is correctly specified."
      ],
      "text/plain": [
       "<class 'statsmodels.iolib.summary.Summary'>\n",
       "\"\"\"\n",
       "                            OLS Regression Results                            \n",
       "==============================================================================\n",
       "Dep. Variable:          weight/pounds   R-squared:                       0.484\n",
       "Model:                            OLS   Adj. R-squared:                  0.477\n",
       "Method:                 Least Squares   F-statistic:                     68.87\n",
       "Date:                Fri, 04 Feb 2022   Prob (F-statistic):           7.87e-22\n",
       "Time:                        16:12:31   Log-Likelihood:                -223.29\n",
       "No. Observations:                 150   AIC:                             452.6\n",
       "Df Residuals:                     147   BIC:                             461.6\n",
       "Df Model:                           2                                         \n",
       "Covariance Type:            nonrobust                                         \n",
       "==============================================================================\n",
       "                 coef    std err          t      P>|t|      [0.025      0.975]\n",
       "------------------------------------------------------------------------------\n",
       "const         -8.4714      1.359     -6.236      0.000     -11.156      -5.787\n",
       "weeks          0.3812      0.033     11.715      0.000       0.317       0.445\n",
       "m_age          0.0310      0.014      2.158      0.033       0.003       0.059\n",
       "==============================================================================\n",
       "Omnibus:                        1.716   Durbin-Watson:                   1.922\n",
       "Prob(Omnibus):                  0.424   Jarque-Bera (JB):                1.302\n",
       "Skew:                          -0.201   Prob(JB):                        0.521\n",
       "Kurtosis:                       3.216   Cond. No.                         722.\n",
       "==============================================================================\n",
       "\n",
       "Notes:\n",
       "[1] Standard Errors assume that the covariance matrix of the errors is correctly specified.\n",
       "\"\"\""
      ]
     },
     "execution_count": 24,
     "metadata": {},
     "output_type": "execute_result"
    },
    {
     "data": {
      "image/png": "[encoded data removed]",
      "text/plain": [
       "<Figure size 432x288 with 1 Axes>"
      ]
     },
     "metadata": {},
     "output_type": "display_data"
    },
    {
     "data": {
      "image/png": "[encoded data removed]",
      "text/plain": [
       "<Figure size 432x288 with 1 Axes>"
      ]
     },
     "metadata": {},
     "output_type": "display_data"
    }
   ],
   "source": [
    "mult_regression(['weeks','m_age'],'weight/pounds')\n",
    "regressionmodel.summary()"
   ]
  },
  {
   "cell_type": "code",
   "execution_count": null,
   "id": "4f90b358",
   "metadata": {},
   "outputs": [],
   "source": []
  }
 ],
 "metadata": {
  "kernelspec": {
   "display_name": "Python 3",
   "language": "python",
   "name": "python3"
  },
  "language_info": {
   "codemirror_mode": {
    "name": "ipython",
    "version": 3
   },
   "file_extension": ".py",
   "mimetype": "text/x-python",
   "name": "python",
   "nbconvert_exporter": "python",
   "pygments_lexer": "ipython3",
   "version": "3.8.8"
  }
 },
 "nbformat": 4,
 "nbformat_minor": 5
}
